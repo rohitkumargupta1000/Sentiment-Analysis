{
 "cells": [
  {
   "cell_type": "code",
   "execution_count": 1,
   "id": "5cc58e79",
   "metadata": {},
   "outputs": [
    {
     "name": "stderr",
     "output_type": "stream",
     "text": [
      "[nltk_data] Downloading package vader_lexicon to\n",
      "[nltk_data]     /Users/d068711/nltk_data...\n",
      "[nltk_data]   Package vader_lexicon is already up-to-date!\n"
     ]
    },
    {
     "data": {
      "text/plain": [
       "True"
      ]
     },
     "execution_count": 1,
     "metadata": {},
     "output_type": "execute_result"
    }
   ],
   "source": [
    "import nltk\n",
    "nltk.download('vader_lexicon')"
   ]
  },
  {
   "cell_type": "markdown",
   "id": "young-tennis",
   "metadata": {},
   "source": [
    "### Loading the dataset"
   ]
  },
  {
   "cell_type": "code",
   "execution_count": 2,
   "id": "3d54183b",
   "metadata": {},
   "outputs": [],
   "source": [
    "import pandas as pd\n",
    "import numpy as np\n",
    "import matplotlib.pyplot as plt\n",
    "from nltk.sentiment.vader import SentimentIntensityAnalyzer"
   ]
  },
  {
   "cell_type": "code",
   "execution_count": 3,
   "id": "7dc1035b",
   "metadata": {},
   "outputs": [],
   "source": [
    "df = pd.read_csv('data/avatar.csv', engine='python')"
   ]
  },
  {
   "cell_type": "code",
   "execution_count": 4,
   "id": "940f9a52",
   "metadata": {},
   "outputs": [
    {
     "data": {
      "text/html": [
       "<div>\n",
       "<style scoped>\n",
       "    .dataframe tbody tr th:only-of-type {\n",
       "        vertical-align: middle;\n",
       "    }\n",
       "\n",
       "    .dataframe tbody tr th {\n",
       "        vertical-align: top;\n",
       "    }\n",
       "\n",
       "    .dataframe thead th {\n",
       "        text-align: right;\n",
       "    }\n",
       "</style>\n",
       "<table border=\"1\" class=\"dataframe\">\n",
       "  <thead>\n",
       "    <tr style=\"text-align: right;\">\n",
       "      <th></th>\n",
       "      <th>Unnamed: 0</th>\n",
       "      <th>id</th>\n",
       "      <th>book</th>\n",
       "      <th>book_num</th>\n",
       "      <th>chapter</th>\n",
       "      <th>chapter_num</th>\n",
       "      <th>character</th>\n",
       "      <th>full_text</th>\n",
       "      <th>character_words</th>\n",
       "      <th>writer</th>\n",
       "      <th>director</th>\n",
       "      <th>imdb_rating</th>\n",
       "    </tr>\n",
       "  </thead>\n",
       "  <tbody>\n",
       "    <tr>\n",
       "      <th>0</th>\n",
       "      <td>1</td>\n",
       "      <td>1</td>\n",
       "      <td>Water</td>\n",
       "      <td>1</td>\n",
       "      <td>The Boy in the Iceberg</td>\n",
       "      <td>1</td>\n",
       "      <td>Katara</td>\n",
       "      <td>Water. Earth. Fire. Air. My grandmother used t...</td>\n",
       "      <td>Water. Earth. Fire. Air. My grandmother used t...</td>\n",
       "      <td>&lt;U+200E&gt;Michael Dante DiMartino, Bryan Konietz...</td>\n",
       "      <td>Dave Filoni</td>\n",
       "      <td>8.1</td>\n",
       "    </tr>\n",
       "    <tr>\n",
       "      <th>1</th>\n",
       "      <td>2</td>\n",
       "      <td>2</td>\n",
       "      <td>Water</td>\n",
       "      <td>1</td>\n",
       "      <td>The Boy in the Iceberg</td>\n",
       "      <td>1</td>\n",
       "      <td>Scene Description</td>\n",
       "      <td>As the title card fades, the scene opens onto ...</td>\n",
       "      <td>NaN</td>\n",
       "      <td>&lt;U+200E&gt;Michael Dante DiMartino, Bryan Konietz...</td>\n",
       "      <td>Dave Filoni</td>\n",
       "      <td>8.1</td>\n",
       "    </tr>\n",
       "    <tr>\n",
       "      <th>2</th>\n",
       "      <td>3</td>\n",
       "      <td>3</td>\n",
       "      <td>Water</td>\n",
       "      <td>1</td>\n",
       "      <td>The Boy in the Iceberg</td>\n",
       "      <td>1</td>\n",
       "      <td>Sokka</td>\n",
       "      <td>It's not getting away from me this time. [Clos...</td>\n",
       "      <td>It's not getting away from me this time.  Watc...</td>\n",
       "      <td>&lt;U+200E&gt;Michael Dante DiMartino, Bryan Konietz...</td>\n",
       "      <td>Dave Filoni</td>\n",
       "      <td>8.1</td>\n",
       "    </tr>\n",
       "    <tr>\n",
       "      <th>3</th>\n",
       "      <td>4</td>\n",
       "      <td>4</td>\n",
       "      <td>Water</td>\n",
       "      <td>1</td>\n",
       "      <td>The Boy in the Iceberg</td>\n",
       "      <td>1</td>\n",
       "      <td>Scene Description</td>\n",
       "      <td>The shot pans quickly from the boy to Katara, ...</td>\n",
       "      <td>NaN</td>\n",
       "      <td>&lt;U+200E&gt;Michael Dante DiMartino, Bryan Konietz...</td>\n",
       "      <td>Dave Filoni</td>\n",
       "      <td>8.1</td>\n",
       "    </tr>\n",
       "    <tr>\n",
       "      <th>4</th>\n",
       "      <td>5</td>\n",
       "      <td>5</td>\n",
       "      <td>Water</td>\n",
       "      <td>1</td>\n",
       "      <td>The Boy in the Iceberg</td>\n",
       "      <td>1</td>\n",
       "      <td>Katara</td>\n",
       "      <td>[Happily surprised.] Sokka, look!</td>\n",
       "      <td>Sokka, look!</td>\n",
       "      <td>&lt;U+200E&gt;Michael Dante DiMartino, Bryan Konietz...</td>\n",
       "      <td>Dave Filoni</td>\n",
       "      <td>8.1</td>\n",
       "    </tr>\n",
       "  </tbody>\n",
       "</table>\n",
       "</div>"
      ],
      "text/plain": [
       "   Unnamed: 0  id   book  book_num                 chapter  chapter_num  \\\n",
       "0           1   1  Water         1  The Boy in the Iceberg            1   \n",
       "1           2   2  Water         1  The Boy in the Iceberg            1   \n",
       "2           3   3  Water         1  The Boy in the Iceberg            1   \n",
       "3           4   4  Water         1  The Boy in the Iceberg            1   \n",
       "4           5   5  Water         1  The Boy in the Iceberg            1   \n",
       "\n",
       "           character                                          full_text  \\\n",
       "0             Katara  Water. Earth. Fire. Air. My grandmother used t...   \n",
       "1  Scene Description  As the title card fades, the scene opens onto ...   \n",
       "2              Sokka  It's not getting away from me this time. [Clos...   \n",
       "3  Scene Description  The shot pans quickly from the boy to Katara, ...   \n",
       "4             Katara                  [Happily surprised.] Sokka, look!   \n",
       "\n",
       "                                     character_words  \\\n",
       "0  Water. Earth. Fire. Air. My grandmother used t...   \n",
       "1                                                NaN   \n",
       "2  It's not getting away from me this time.  Watc...   \n",
       "3                                                NaN   \n",
       "4                                       Sokka, look!   \n",
       "\n",
       "                                              writer     director  imdb_rating  \n",
       "0  <U+200E>Michael Dante DiMartino, Bryan Konietz...  Dave Filoni          8.1  \n",
       "1  <U+200E>Michael Dante DiMartino, Bryan Konietz...  Dave Filoni          8.1  \n",
       "2  <U+200E>Michael Dante DiMartino, Bryan Konietz...  Dave Filoni          8.1  \n",
       "3  <U+200E>Michael Dante DiMartino, Bryan Konietz...  Dave Filoni          8.1  \n",
       "4  <U+200E>Michael Dante DiMartino, Bryan Konietz...  Dave Filoni          8.1  "
      ]
     },
     "execution_count": 4,
     "metadata": {},
     "output_type": "execute_result"
    }
   ],
   "source": [
    "df.head(5)"
   ]
  },
  {
   "cell_type": "code",
   "execution_count": 5,
   "id": "9685859f",
   "metadata": {},
   "outputs": [
    {
     "data": {
      "text/plain": [
       "13385"
      ]
     },
     "execution_count": 5,
     "metadata": {},
     "output_type": "execute_result"
    }
   ],
   "source": [
    "len(df)"
   ]
  },
  {
   "cell_type": "markdown",
   "id": "b161416b",
   "metadata": {},
   "source": [
    "### Basic exploration"
   ]
  },
  {
   "cell_type": "code",
   "execution_count": 6,
   "id": "09060962",
   "metadata": {},
   "outputs": [
    {
     "data": {
      "text/plain": [
       "Water    4620\n",
       "Earth    4412\n",
       "Fire     4353\n",
       "Name: book, dtype: int64"
      ]
     },
     "execution_count": 6,
     "metadata": {},
     "output_type": "execute_result"
    }
   ],
   "source": [
    "#Number of Books\n",
    "df['book'].value_counts()"
   ]
  },
  {
   "cell_type": "code",
   "execution_count": 7,
   "id": "bad0afce",
   "metadata": {},
   "outputs": [
    {
     "data": {
      "text/plain": [
       "book\n",
       "Earth    [Scene Description, Katara, Aang, Pakku, Iroh,...\n",
       "Fire     [Scene Description, Aang, Pipsqueak, Toph, Kat...\n",
       "Water    [Katara, Scene Description, Sokka, Zuko, Iroh,...\n",
       "Name: character, dtype: object"
      ]
     },
     "execution_count": 7,
     "metadata": {},
     "output_type": "execute_result"
    }
   ],
   "source": [
    "# Characters in each Book\n",
    "df.groupby('book')['character'].unique()"
   ]
  },
  {
   "cell_type": "code",
   "execution_count": 8,
   "id": "b421bb33",
   "metadata": {},
   "outputs": [
    {
     "data": {
      "text/plain": [
       "book\n",
       "Earth    171\n",
       "Fire     155\n",
       "Water    132\n",
       "Name: character, dtype: int64"
      ]
     },
     "execution_count": 8,
     "metadata": {},
     "output_type": "execute_result"
    }
   ],
   "source": [
    "# Number of unique characters in each Book\n",
    "df.groupby('book')['character'].nunique()"
   ]
  },
  {
   "cell_type": "code",
   "execution_count": 9,
   "id": "d11fc8e1",
   "metadata": {},
   "outputs": [
    {
     "data": {
      "text/plain": [
       "book   character        \n",
       "Earth  Scene Description    1226\n",
       "       Sokka                 499\n",
       "       Aang                  492\n",
       "       Katara                413\n",
       "       Toph                  242\n",
       "                            ... \n",
       "Water  Spectators              1\n",
       "       Strange Man             1\n",
       "       Together                1\n",
       "       Tribal man              1\n",
       "       Village kids            1\n",
       "Name: character, Length: 458, dtype: int64"
      ]
     },
     "execution_count": 9,
     "metadata": {},
     "output_type": "execute_result"
    }
   ],
   "source": [
    "# Number of lines from each character in each Book\n",
    "df.groupby('book')['character'].value_counts()"
   ]
  },
  {
   "cell_type": "code",
   "execution_count": 10,
   "id": "5b147c21",
   "metadata": {},
   "outputs": [
    {
     "data": {
      "text/plain": [
       "9992"
      ]
     },
     "execution_count": 10,
     "metadata": {},
     "output_type": "execute_result"
    }
   ],
   "source": [
    "# Filtering character=\"Scene Description\" as words spoken by character (character_words) there are NaN\n",
    "df = df[df['character'] != 'Scene Description']\n",
    "len(df)"
   ]
  },
  {
   "cell_type": "code",
   "execution_count": 11,
   "id": "a5e77529",
   "metadata": {},
   "outputs": [],
   "source": [
    "# filtering out non-top characters\n",
    "top_10_characters = df['character'].value_counts(ascending=False).index[:10].tolist()\n",
    "df_top_characters = df[df['character'].isin(top_10_characters)]\n",
    "df_top_characters = df_top_characters[['character', 'character_words']]"
   ]
  },
  {
   "cell_type": "markdown",
   "id": "781b51a1",
   "metadata": {},
   "source": [
    "### Computing sentiment score per sentence using VADER (Valence Aware Dictionary for Sentiment Reasoning)\n",
    "VADER is a model used for text sentiment analysis that is sensitive to polarity (positive/neutral/negative) and intensity of emotion. It can be applied directly to unlabelled text. Also, it outputs 'compound' by normalizing the polarity score."
   ]
  },
  {
   "cell_type": "code",
   "execution_count": 12,
   "id": "2ba3cf07",
   "metadata": {},
   "outputs": [
    {
     "data": {
      "text/html": [
       "<div>\n",
       "<style scoped>\n",
       "    .dataframe tbody tr th:only-of-type {\n",
       "        vertical-align: middle;\n",
       "    }\n",
       "\n",
       "    .dataframe tbody tr th {\n",
       "        vertical-align: top;\n",
       "    }\n",
       "\n",
       "    .dataframe thead th {\n",
       "        text-align: right;\n",
       "    }\n",
       "</style>\n",
       "<table border=\"1\" class=\"dataframe\">\n",
       "  <thead>\n",
       "    <tr style=\"text-align: right;\">\n",
       "      <th></th>\n",
       "      <th>character</th>\n",
       "      <th>character_words</th>\n",
       "      <th>neg</th>\n",
       "      <th>neu</th>\n",
       "      <th>pos</th>\n",
       "      <th>compound</th>\n",
       "    </tr>\n",
       "  </thead>\n",
       "  <tbody>\n",
       "    <tr>\n",
       "      <th>0</th>\n",
       "      <td>Katara</td>\n",
       "      <td>Water. Earth. Fire. Air. My grandmother used t...</td>\n",
       "      <td>0.196</td>\n",
       "      <td>0.735</td>\n",
       "      <td>0.069</td>\n",
       "      <td>-0.9718</td>\n",
       "    </tr>\n",
       "    <tr>\n",
       "      <th>1</th>\n",
       "      <td>Sokka</td>\n",
       "      <td>It's not getting away from me this time.  Watc...</td>\n",
       "      <td>0.000</td>\n",
       "      <td>1.000</td>\n",
       "      <td>0.000</td>\n",
       "      <td>0.0000</td>\n",
       "    </tr>\n",
       "    <tr>\n",
       "      <th>2</th>\n",
       "      <td>Katara</td>\n",
       "      <td>Sokka, look!</td>\n",
       "      <td>0.000</td>\n",
       "      <td>1.000</td>\n",
       "      <td>0.000</td>\n",
       "      <td>0.0000</td>\n",
       "    </tr>\n",
       "    <tr>\n",
       "      <th>3</th>\n",
       "      <td>Sokka</td>\n",
       "      <td>Sshh! Katara, you're going to scare it away.  ...</td>\n",
       "      <td>0.200</td>\n",
       "      <td>0.800</td>\n",
       "      <td>0.000</td>\n",
       "      <td>-0.5411</td>\n",
       "    </tr>\n",
       "    <tr>\n",
       "      <th>4</th>\n",
       "      <td>Katara</td>\n",
       "      <td>But, Sokka! I caught one!</td>\n",
       "      <td>0.000</td>\n",
       "      <td>1.000</td>\n",
       "      <td>0.000</td>\n",
       "      <td>0.0000</td>\n",
       "    </tr>\n",
       "    <tr>\n",
       "      <th>...</th>\n",
       "      <td>...</td>\n",
       "      <td>...</td>\n",
       "      <td>...</td>\n",
       "      <td>...</td>\n",
       "      <td>...</td>\n",
       "      <td>...</td>\n",
       "    </tr>\n",
       "    <tr>\n",
       "      <th>7053</th>\n",
       "      <td>Zuko</td>\n",
       "      <td>At least you don't look like a boar-q-pine! My...</td>\n",
       "      <td>0.183</td>\n",
       "      <td>0.817</td>\n",
       "      <td>0.000</td>\n",
       "      <td>-0.4007</td>\n",
       "    </tr>\n",
       "    <tr>\n",
       "      <th>7054</th>\n",
       "      <td>Suki</td>\n",
       "      <td>And why did you paint me firebending?</td>\n",
       "      <td>0.000</td>\n",
       "      <td>1.000</td>\n",
       "      <td>0.000</td>\n",
       "      <td>0.0000</td>\n",
       "    </tr>\n",
       "    <tr>\n",
       "      <th>7055</th>\n",
       "      <td>Sokka</td>\n",
       "      <td>I thought it looked more exciting that way.  O...</td>\n",
       "      <td>0.000</td>\n",
       "      <td>0.687</td>\n",
       "      <td>0.313</td>\n",
       "      <td>0.7501</td>\n",
       "    </tr>\n",
       "    <tr>\n",
       "      <th>7056</th>\n",
       "      <td>Iroh</td>\n",
       "      <td>Hey, my belly's not that big anymore. I've rea...</td>\n",
       "      <td>0.000</td>\n",
       "      <td>1.000</td>\n",
       "      <td>0.000</td>\n",
       "      <td>0.0000</td>\n",
       "    </tr>\n",
       "    <tr>\n",
       "      <th>7057</th>\n",
       "      <td>Toph</td>\n",
       "      <td>Well I think you all look perfect!</td>\n",
       "      <td>0.000</td>\n",
       "      <td>0.396</td>\n",
       "      <td>0.604</td>\n",
       "      <td>0.7263</td>\n",
       "    </tr>\n",
       "  </tbody>\n",
       "</table>\n",
       "<p>7058 rows × 6 columns</p>\n",
       "</div>"
      ],
      "text/plain": [
       "     character                                    character_words    neg  \\\n",
       "0       Katara  Water. Earth. Fire. Air. My grandmother used t...  0.196   \n",
       "1        Sokka  It's not getting away from me this time.  Watc...  0.000   \n",
       "2       Katara                                       Sokka, look!  0.000   \n",
       "3        Sokka  Sshh! Katara, you're going to scare it away.  ...  0.200   \n",
       "4       Katara                          But, Sokka! I caught one!  0.000   \n",
       "...        ...                                                ...    ...   \n",
       "7053      Zuko  At least you don't look like a boar-q-pine! My...  0.183   \n",
       "7054      Suki              And why did you paint me firebending?  0.000   \n",
       "7055     Sokka  I thought it looked more exciting that way.  O...  0.000   \n",
       "7056      Iroh  Hey, my belly's not that big anymore. I've rea...  0.000   \n",
       "7057      Toph                 Well I think you all look perfect!  0.000   \n",
       "\n",
       "        neu    pos  compound  \n",
       "0     0.735  0.069   -0.9718  \n",
       "1     1.000  0.000    0.0000  \n",
       "2     1.000  0.000    0.0000  \n",
       "3     0.800  0.000   -0.5411  \n",
       "4     1.000  0.000    0.0000  \n",
       "...     ...    ...       ...  \n",
       "7053  0.817  0.000   -0.4007  \n",
       "7054  1.000  0.000    0.0000  \n",
       "7055  0.687  0.313    0.7501  \n",
       "7056  1.000  0.000    0.0000  \n",
       "7057  0.396  0.604    0.7263  \n",
       "\n",
       "[7058 rows x 6 columns]"
      ]
     },
     "execution_count": 12,
     "metadata": {},
     "output_type": "execute_result"
    }
   ],
   "source": [
    "sid = SentimentIntensityAnalyzer()\n",
    "df_top_characters.reset_index(inplace=True, drop=True)\n",
    "df_top_characters[['neg', 'neu', 'pos', 'compound']] = df_top_characters['character_words'].apply(sid.polarity_scores).apply(pd.Series)\n",
    "df_top_characters"
   ]
  },
  {
   "cell_type": "markdown",
   "id": "burning-pointer",
   "metadata": {},
   "source": [
    "### Computing sentiment of each character"
   ]
  },
  {
   "cell_type": "code",
   "execution_count": 13,
   "id": "protecting-garbage",
   "metadata": {},
   "outputs": [
    {
     "data": {
      "text/html": [
       "<div>\n",
       "<style scoped>\n",
       "    .dataframe tbody tr th:only-of-type {\n",
       "        vertical-align: middle;\n",
       "    }\n",
       "\n",
       "    .dataframe tbody tr th {\n",
       "        vertical-align: top;\n",
       "    }\n",
       "\n",
       "    .dataframe thead th {\n",
       "        text-align: right;\n",
       "    }\n",
       "</style>\n",
       "<table border=\"1\" class=\"dataframe\">\n",
       "  <thead>\n",
       "    <tr style=\"text-align: right;\">\n",
       "      <th></th>\n",
       "      <th>character</th>\n",
       "      <th>neg</th>\n",
       "      <th>neu</th>\n",
       "      <th>pos</th>\n",
       "      <th>compound</th>\n",
       "    </tr>\n",
       "  </thead>\n",
       "  <tbody>\n",
       "    <tr>\n",
       "      <th>0</th>\n",
       "      <td>Zhao</td>\n",
       "      <td>0.135</td>\n",
       "      <td>0.753</td>\n",
       "      <td>0.112</td>\n",
       "      <td>-0.039</td>\n",
       "    </tr>\n",
       "    <tr>\n",
       "      <th>1</th>\n",
       "      <td>Zuko</td>\n",
       "      <td>0.100</td>\n",
       "      <td>0.789</td>\n",
       "      <td>0.112</td>\n",
       "      <td>0.026</td>\n",
       "    </tr>\n",
       "    <tr>\n",
       "      <th>2</th>\n",
       "      <td>Sokka</td>\n",
       "      <td>0.097</td>\n",
       "      <td>0.789</td>\n",
       "      <td>0.115</td>\n",
       "      <td>0.023</td>\n",
       "    </tr>\n",
       "    <tr>\n",
       "      <th>3</th>\n",
       "      <td>Katara</td>\n",
       "      <td>0.091</td>\n",
       "      <td>0.787</td>\n",
       "      <td>0.122</td>\n",
       "      <td>0.045</td>\n",
       "    </tr>\n",
       "    <tr>\n",
       "      <th>4</th>\n",
       "      <td>Azula</td>\n",
       "      <td>0.090</td>\n",
       "      <td>0.784</td>\n",
       "      <td>0.127</td>\n",
       "      <td>0.080</td>\n",
       "    </tr>\n",
       "    <tr>\n",
       "      <th>5</th>\n",
       "      <td>Suki</td>\n",
       "      <td>0.090</td>\n",
       "      <td>0.783</td>\n",
       "      <td>0.127</td>\n",
       "      <td>0.086</td>\n",
       "    </tr>\n",
       "    <tr>\n",
       "      <th>6</th>\n",
       "      <td>Jet</td>\n",
       "      <td>0.090</td>\n",
       "      <td>0.777</td>\n",
       "      <td>0.133</td>\n",
       "      <td>0.063</td>\n",
       "    </tr>\n",
       "    <tr>\n",
       "      <th>7</th>\n",
       "      <td>Toph</td>\n",
       "      <td>0.084</td>\n",
       "      <td>0.776</td>\n",
       "      <td>0.140</td>\n",
       "      <td>0.074</td>\n",
       "    </tr>\n",
       "    <tr>\n",
       "      <th>8</th>\n",
       "      <td>Aang</td>\n",
       "      <td>0.075</td>\n",
       "      <td>0.782</td>\n",
       "      <td>0.143</td>\n",
       "      <td>0.083</td>\n",
       "    </tr>\n",
       "    <tr>\n",
       "      <th>9</th>\n",
       "      <td>Iroh</td>\n",
       "      <td>0.077</td>\n",
       "      <td>0.754</td>\n",
       "      <td>0.169</td>\n",
       "      <td>0.165</td>\n",
       "    </tr>\n",
       "  </tbody>\n",
       "</table>\n",
       "</div>"
      ],
      "text/plain": [
       "  character    neg    neu    pos  compound\n",
       "0      Zhao  0.135  0.753  0.112    -0.039\n",
       "1      Zuko  0.100  0.789  0.112     0.026\n",
       "2     Sokka  0.097  0.789  0.115     0.023\n",
       "3    Katara  0.091  0.787  0.122     0.045\n",
       "4     Azula  0.090  0.784  0.127     0.080\n",
       "5      Suki  0.090  0.783  0.127     0.086\n",
       "6       Jet  0.090  0.777  0.133     0.063\n",
       "7      Toph  0.084  0.776  0.140     0.074\n",
       "8      Aang  0.075  0.782  0.143     0.083\n",
       "9      Iroh  0.077  0.754  0.169     0.165"
      ]
     },
     "execution_count": 13,
     "metadata": {},
     "output_type": "execute_result"
    }
   ],
   "source": [
    "# sentiment score for each character (mean)\n",
    "df_top_characters = df_top_characters.groupby('character').mean().round(3).sort_values(by='pos', ascending=True)\n",
    "df_top_characters.reset_index(inplace=True)\n",
    "df_top_characters"
   ]
  },
  {
   "cell_type": "markdown",
   "id": "quarterly-marina",
   "metadata": {},
   "source": [
    "## Plotting sentiment"
   ]
  },
  {
   "cell_type": "code",
   "execution_count": 14,
   "id": "greek-missouri",
   "metadata": {},
   "outputs": [
    {
     "data": {
      "image/png": "[encoded data removed]",
      "text/plain": [
       "<Figure size 1224x864 with 1 Axes>"
      ]
     },
     "metadata": {
      "needs_background": "light"
     },
     "output_type": "display_data"
    }
   ],
   "source": [
    "# preparing data\n",
    "X = np.arange(len(df_top_characters['pos']))\n",
    "\n",
    "#bar plot\n",
    "fig = plt.figure(figsize = (17, 12))\n",
    "plt.barh(X, df_top_characters['pos'], facecolor='#9999ff', edgecolor='white')\n",
    "plt.barh(X, -df_top_characters['neg'], facecolor='#ff9999', edgecolor='white')\n",
    "plt.xlim([-.16,.22])\n",
    "plt.yticks(ticks=X, labels=df_top_characters['character'], rotation='0')\n",
    "plt.show()"
   ]
  },
  {
   "cell_type": "code",
   "execution_count": null,
   "id": "f4266bcb",
   "metadata": {},
   "outputs": [],
   "source": []
  }
 ],
 "metadata": {
  "hide_input": false,
  "kernelspec": {
   "display_name": "Python 3",
   "language": "python",
   "name": "python3"
  },
  "language_info": {
   "codemirror_mode": {
    "name": "ipython",
    "version": 3
   },
   "file_extension": ".py",
   "mimetype": "text/x-python",
   "name": "python",
   "nbconvert_exporter": "python",
   "pygments_lexer": "ipython3",
   "version": "3.9.5"
  },
  "nbTranslate": {
   "displayLangs": [
    "es",
    "en"
   ],
   "hotkey": "alt-t",
   "langInMainMenu": true,
   "sourceLang": "en",
   "targetLang": "es",
   "useGoogleTranslate": true
  },
  "toc": {
   "base_numbering": 1,
   "nav_menu": {},
   "number_sections": true,
   "sideBar": true,
   "skip_h1_title": false,
   "title_cell": "Table of Contents",
   "title_sidebar": "Contents",
   "toc_cell": false,
   "toc_position": {
    "height": "527.8261108398438px",
    "left": "661px",
    "top": "109.57879638671875px",
    "width": "250.43478393554688px"
   },
   "toc_section_display": true,
   "toc_window_display": false
  }
 },
 "nbformat": 4,
 "nbformat_minor": 5
}
